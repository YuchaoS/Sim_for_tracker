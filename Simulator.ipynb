{
 "cells": [
  {
   "cell_type": "code",
   "execution_count": 1,
   "metadata": {},
   "outputs": [],
   "source": [
    "import math\n",
    "import random"
   ]
  },
  {
   "cell_type": "code",
   "execution_count": 2,
   "metadata": {},
   "outputs": [],
   "source": [
    "#initial\n",
    "target_x = 0\n",
    "target_y = 3\n",
    "target_v = 0.4\n",
    "agent_x = 0\n",
    "agent_y = 0\n",
    "agent_v = 0.6             "
   ]
  },
  {
   "cell_type": "code",
   "execution_count": 3,
   "metadata": {},
   "outputs": [],
   "source": [
    "def to_radian(angle):\n",
    "    return angle/180.*math.pi\n",
    "def rand_angle(base,alph):\n",
    "    return base+(random.random()-0.5)*alph*2\n",
    "class Target(object):\n",
    "    def __init__(self,ix,iy,v):\n",
    "        self.x = ix\n",
    "        self.y = iy\n",
    "        self.v = v\n",
    "        self.gt = 0\n",
    "        self.alph = 0\n",
    "        self.dalph = 45\n",
    "    def move_delt(self,delt,isrand=True):\n",
    "        if isrand:\n",
    "            self.alph = rand_angle(self.alph,self.dalph)%360\n",
    "            self.x = self.x+delt*self.v*math.cos(to_radian(self.alph))\n",
    "            self.y = self.y+delt*self.v*math.sin(to_radian(self.alph))\n",
    "        else:\n",
    "            self.alph = (self.alph+self.dalph)%360\n",
    "            self.x = self.x+delt*self.v*math.cos(to_radian(self.alph))\n",
    "            self.y = self.y+delt*self.v*math.sin(to_radian(self.alph))\n",
    "        self.gt = self.gt+1"
   ]
  },
  {
   "cell_type": "code",
   "execution_count": 38,
   "metadata": {},
   "outputs": [],
   "source": [
    "class Tracker(object):\n",
    "    def __init__(self,ix,iy,v):\n",
    "        self.x = ix\n",
    "        self.y = iy\n",
    "        self.v = v\n",
    "        self.gt = 0\n",
    "        self.alph = 0\n",
    "    def move_delt(self,delt):\n",
    "        self.x = self.x+delt*self.v*math.cos(to_radian(self.alph))\n",
    "        self.y = self.y+delt*self.v*math.sin(to_radian(self.alph))\n",
    "        self.gt = self.gt+1\n",
    "    def set_v(self,v):\n",
    "        self.v = v\n",
    "    def set_alph(self,alph):\n",
    "        self.alph = alph"
   ]
  },
  {
   "cell_type": "code",
   "execution_count": 51,
   "metadata": {},
   "outputs": [],
   "source": [
    "class Algorithm(object):\n",
    "    def __init__(self,p1,p2):\n",
    "        self.agent = p1\n",
    "        self.target = p2\n",
    "        self.distances = []\n",
    "        self.gt = p1.gt\n",
    "    def set_new_point(self,p1,p2):\n",
    "        self.agent = p1\n",
    "        self.target = p2\n",
    "        self.gt =p1.gt\n",
    "    def policy(self):\n",
    "        pass\n",
    "    def distance(self):\n",
    "        self.distances.append(math.sqrt((self.agent.x-self.target.x)**2+(self.agent.y-self.target.y)**2))"
   ]
  },
  {
   "cell_type": "code",
   "execution_count": 58,
   "metadata": {},
   "outputs": [],
   "source": [
    "def run(delt=0.1):\n",
    "    target = Target(0,4,0.5)\n",
    "    agent = Tracker(0,0,0.7) \n",
    "    algo = Algorithm(agent,target)\n",
    "    print(target)\n",
    "    print(algo.target)\n",
    "#     for i in range(20):\n",
    "#         algo.distance()\n",
    "#         print(\"the  distance is {}\".format(algo.distances[-1]))\n",
    "#         target.move_delt(delt)\n",
    "#         agent.move_delt(delt)\n",
    "        "
   ]
  },
  {
   "cell_type": "code",
   "execution_count": 59,
   "metadata": {},
   "outputs": [
    {
     "name": "stdout",
     "output_type": "stream",
     "text": [
      "<__main__.Target object at 0x000001D314A2DDD8>\n",
      "<__main__.Target object at 0x000001D314A2DDD8>\n"
     ]
    }
   ],
   "source": [
    "run()"
   ]
  },
  {
   "cell_type": "code",
   "execution_count": 20,
   "metadata": {},
   "outputs": [
    {
     "data": {
      "text/plain": [
       "<function math.sqrt(x, /)>"
      ]
     },
     "execution_count": 20,
     "metadata": {},
     "output_type": "execute_result"
    }
   ],
   "source": []
  },
  {
   "cell_type": "code",
   "execution_count": null,
   "metadata": {},
   "outputs": [],
   "source": []
  }
 ],
 "metadata": {
  "kernelspec": {
   "display_name": "Python 3",
   "language": "python",
   "name": "python3"
  },
  "language_info": {
   "codemirror_mode": {
    "name": "ipython",
    "version": 3
   },
   "file_extension": ".py",
   "mimetype": "text/x-python",
   "name": "python",
   "nbconvert_exporter": "python",
   "pygments_lexer": "ipython3",
   "version": "3.7.0"
  }
 },
 "nbformat": 4,
 "nbformat_minor": 2
}
